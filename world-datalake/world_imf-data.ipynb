{
 "cells": [
  {
   "cell_type": "code",
   "execution_count": null,
   "metadata": {},
   "outputs": [],
   "source": []
  },
  {
   "cell_type": "code",
   "execution_count": 1,
   "metadata": {},
   "outputs": [
    {
     "name": "stdout",
     "output_type": "stream",
     "text": [
      "Erreur de récupération des données pour US (NGDP_RPCH): 400\n",
      "Erreur de récupération des données pour CN (NGDP_RPCH): 400\n",
      "Erreur de récupération des données pour FR (NGDP_RPCH): 400\n",
      "Erreur de récupération des données pour DE (NGDP_RPCH): 400\n",
      "Erreur de récupération des données pour CM (NGDP_RPCH): 400\n",
      "Erreur de récupération des données pour US (LUR): 400\n",
      "Erreur de récupération des données pour CN (LUR): 400\n",
      "Erreur de récupération des données pour FR (LUR): 400\n",
      "Erreur de récupération des données pour DE (LUR): 400\n",
      "Erreur de récupération des données pour CM (LUR): 400\n",
      "Erreur de récupération des données pour US (GGXWDG_NGDP): 400\n",
      "Erreur de récupération des données pour CN (GGXWDG_NGDP): 400\n",
      "Erreur de récupération des données pour FR (GGXWDG_NGDP): 400\n",
      "Erreur de récupération des données pour DE (GGXWDG_NGDP): 400\n",
      "Erreur de récupération des données pour CM (GGXWDG_NGDP): 400\n",
      "(0, 0)\n"
     ]
    }
   ],
   "source": [
    "import requests\n",
    "import pandas as pd\n",
    "\n",
    "# Remplacez cette clé par votre propre clé API obtenue du portail du FMI\n",
    "#API_KEY = 'votre_cle_api'\n",
    "API_KEY = \"f73779f3-6116-4d85-8e88-6383a33b54a8\"\n",
    "\n",
    "# URL de l'API du FMI (ex. pour le World Economic Outlook)\n",
    "url = \"https://api.db.nomics.world/v22/series/IMF/WEO\"\n",
    "\n",
    "# Liste des indicateurs (exemple : PIB, inflation, etc.)\n",
    "indicators = [\"NGDP_RPCH\", \"LUR\", \"GGXWDG_NGDP\"]  # PIB croissance, taux de chômage, dette publique en % du PIB\n",
    "\n",
    "# Liste des pays (exemple avec code ISO)\n",
    "countries = [\"US\", \"CN\", \"FR\", \"DE\", \"CM\"]  # États-Unis, Chine, France, Allemagne, Cameroun\n",
    "\n",
    "# Année pour laquelle vous voulez récupérer les données\n",
    "year = 2023\n",
    "\n",
    "# Fonction pour obtenir les données d'un indicateur pour plusieurs pays\n",
    "def get_fmi_data(indicator, countries, year):\n",
    "    data_list = []\n",
    "    \n",
    "    # Boucle sur les pays pour récupérer les données de l'indicateur donné\n",
    "    for country in countries:\n",
    "        params = {\n",
    "            'key': API_KEY,\n",
    "            'series': indicator,\n",
    "            'country': country,\n",
    "            'year': year\n",
    "        }\n",
    "        \n",
    "        response = requests.get(url, params=params)\n",
    "        \n",
    "        if response.status_code == 200:\n",
    "            data = response.json()\n",
    "            # Traitement des données\n",
    "            for entry in data['data']:\n",
    "                data_list.append({\n",
    "                    'country': country,\n",
    "                    'year': entry['year'],\n",
    "                    'indicator': indicator,\n",
    "                    'value': entry['value']\n",
    "                })\n",
    "        else:\n",
    "            print(f\"Erreur de récupération des données pour {country} ({indicator}): {response.status_code}\")\n",
    "    \n",
    "    return pd.DataFrame(data_list)\n",
    "\n",
    "# Exemple d'utilisation : récupérer les données pour plusieurs indicateurs\n",
    "df_final = pd.DataFrame()\n",
    "\n",
    "for indicator in indicators:\n",
    "    df_temp = get_fmi_data(indicator, countries, year)\n",
    "    df_final = pd.concat([df_final, df_temp])\n",
    "\n",
    "# Affichage des données récupérées\n",
    "print(df_final.shape)\n"
   ]
  },
  {
   "cell_type": "code",
   "execution_count": null,
   "metadata": {},
   "outputs": [],
   "source": []
  }
 ],
 "metadata": {
  "kernelspec": {
   "display_name": "_venv",
   "language": "python",
   "name": "python3"
  },
  "language_info": {
   "codemirror_mode": {
    "name": "ipython",
    "version": 3
   },
   "file_extension": ".py",
   "mimetype": "text/x-python",
   "name": "python",
   "nbconvert_exporter": "python",
   "pygments_lexer": "ipython3",
   "version": "3.10.3"
  }
 },
 "nbformat": 4,
 "nbformat_minor": 2
}
