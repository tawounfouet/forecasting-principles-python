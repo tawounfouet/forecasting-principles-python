{
 "cells": [
  {
   "cell_type": "code",
   "execution_count": 1,
   "id": "3a4d4507-0e6e-446f-95a4-bf9b8f6029f6",
   "metadata": {},
   "outputs": [],
   "source": [
    "#!pip install MIMEMultipart"
   ]
  },
  {
   "cell_type": "code",
   "execution_count": 2,
   "id": "1fe527e1-a739-40e1-8bba-03fadc601f34",
   "metadata": {},
   "outputs": [],
   "source": [
    "import smtplib\n",
    "from email.mime.multipart import MIMEMultipart\n",
    "from email.mime.text import MIMEText"
   ]
  },
  {
   "cell_type": "code",
   "execution_count": 4,
   "id": "4e3aab80-6904-4187-8bd8-624fcae35c6c",
   "metadata": {},
   "outputs": [],
   "source": [
    "# https://www.nescadesign.be/activer-lapplication-password-sur-microsoft-365/\n",
    "# https://www.quennec.fr/trucs-astuces/langages/python/python-envoyer-un-mail-tout-simplement\n",
    "\n",
    "# Configurer les détails de l'email\n",
    "smtp_server = 'smtp.office365.com'\n",
    "smtp_port = 587\n",
    "username = 'thomas.awounfouet@diversitealternative.org'\n",
    "password = 'Thomson1995'\n",
    "from_email = 'thomas.awounfouet@diversitealternative.org'\n",
    "to_email = 'modestegbessinon1@gmail.com'\n",
    "\n",
    "subject = \"Hello from Python - haha -bis\"\n",
    "\n",
    "body = \"\"\"\n",
    "Salut c'est Thomas encore\n",
    "\"\"\"\n",
    "\n",
    "# Créer le message\n",
    "msg = MIMEMultipart()\n",
    "msg['From'] = from_email\n",
    "msg['To'] = to_email\n",
    "msg['Subject'] = subject\n",
    "msg.attach(MIMEText(body, 'plain'))"
   ]
  },
  {
   "cell_type": "code",
   "execution_count": 5,
   "id": "a536cbea-90e0-4a01-9bbf-2779bb8cc456",
   "metadata": {},
   "outputs": [
    {
     "name": "stdout",
     "output_type": "stream",
     "text": [
      "Email envoyé avec succès.\n"
     ]
    }
   ],
   "source": [
    "# Envoyer l'email\n",
    "with smtplib.SMTP(smtp_server, smtp_port) as server:\n",
    "    server.starttls()  # Sécuriser la connexion\n",
    "    server.login(username, password)\n",
    "    server.send_message(msg)\n",
    "\n",
    "print('Email envoyé avec succès.')"
   ]
  },
  {
   "cell_type": "code",
   "execution_count": null,
   "id": "7317179f-69b7-43c7-add1-48a18780e521",
   "metadata": {},
   "outputs": [],
   "source": []
  },
  {
   "cell_type": "code",
   "execution_count": null,
   "id": "7afa8771-e514-4d6c-b006-ccb3c89e489e",
   "metadata": {},
   "outputs": [],
   "source": [
    "#!pip install smtplib\n",
    "#!pip install email"
   ]
  },
  {
   "cell_type": "code",
   "execution_count": 17,
   "id": "5ce34d74-011d-428d-8e87-94e7b6f91ecc",
   "metadata": {},
   "outputs": [
    {
     "name": "stdout",
     "output_type": "stream",
     "text": [
      "Rapport envoyé à thomas.awounfouet@gmail.com\n"
     ]
    }
   ],
   "source": [
    "import smtplib\n",
    "from email.mime.multipart import MIMEMultipart\n",
    "from email.mime.text import MIMEText\n",
    "from datetime import datetime\n",
    "\n",
    "def envoyer_rapport(email_destinataire, rapport, objet):\n",
    "    # Configuration de l'email\n",
    "    email_expediteur = 'thomas.awounfouet@diversitealternative.org'\n",
    "    nom_expediteur = 'Thomas AWF'  # Nom de l'expéditeur\n",
    "    mot_de_passe = 'Thomson1995'\n",
    "    #username = 'thomas.awounfouet@diversitealternative.org'\n",
    "    #password = 'Thomson1995'\n",
    "    \n",
    "    # Création de l'objet MIMEMultipart\n",
    "    msg = MIMEMultipart()\n",
    "    #msg['From'] = email_expediteur\n",
    "    msg['From'] = f'{nom_expediteur} <{email_expediteur}>'\n",
    "    msg['To'] = email_destinataire\n",
    "    #msg['Subject'] = f\"Rapport Quotidien - {datetime.now().strftime('%Y-%m-%d')}\"\n",
    "    msg['Subject'] = objet  # Utiliser l'objet passé en paramètre\n",
    "    \n",
    "    # Attacher le texte du rapport\n",
    "    msg.attach(MIMEText(rapport, 'plain'))\n",
    "    \n",
    "    # Connexion au serveur SMTP et envoi de l'email\n",
    "    try:\n",
    "        server = smtplib.SMTP('smtp.office365.com', 587)\n",
    "        server.starttls()\n",
    "        server.login(email_expediteur, mot_de_passe)\n",
    "        text = msg.as_string()\n",
    "        server.sendmail(email_expediteur, email_destinataire, text)\n",
    "        server.quit()\n",
    "        print(f'Rapport envoyé à {email_destinataire}')\n",
    "    except Exception as e:\n",
    "        print(f'Erreur lors de l\\'envoi de l\\'email: {str(e)}')\n",
    "\n",
    "if __name__ == \"__main__\":\n",
    "    # Exemple de rapport\n",
    "    rapport = \"\"\"\n",
    "    Bonjour,\n",
    "\n",
    "    Voici le rapport quotidien :\n",
    "\n",
    "    - Point 1\n",
    "    - Point 2\n",
    "    - Point 3\n",
    "\n",
    "    Cordialement,\n",
    "    Votre Nom\n",
    "    \"\"\"\n",
    "\n",
    "     # Objet de l'e-mail\n",
    "    objet = f\"Rapport Quotidien - {datetime.now().strftime('%Y-%m-%d')}\"\n",
    "    \n",
    "    # Adresse e-mail du destinataire\n",
    "    email_destinataire = 'thomas.awounfouet@gmail.com'\n",
    "    \n",
    "    # Envoyer le rapport\n",
    "    #envoyer_rapport(email_destinataire, rapport)\n",
    "\n",
    "    # Envoyer le rapport avec l'objet spécifié\n",
    "    envoyer_rapport(email_destinataire, rapport, objet)\n"
   ]
  },
  {
   "cell_type": "code",
   "execution_count": null,
   "id": "e8124c68-e566-43a4-b638-3bf47182adaf",
   "metadata": {},
   "outputs": [],
   "source": []
  }
 ],
 "metadata": {
  "kernelspec": {
   "display_name": "Python 3 (ipykernel)",
   "language": "python",
   "name": "python3"
  },
  "language_info": {
   "codemirror_mode": {
    "name": "ipython",
    "version": 3
   },
   "file_extension": ".py",
   "mimetype": "text/x-python",
   "name": "python",
   "nbconvert_exporter": "python",
   "pygments_lexer": "ipython3",
   "version": "3.12.1"
  }
 },
 "nbformat": 4,
 "nbformat_minor": 5
}
